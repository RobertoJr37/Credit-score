{
 "cells": [
  {
   "cell_type": "markdown",
   "metadata": {
    "id": "eYvCczy6lTt7"
   },
   "source": [
    "# Livro para consulta:\n",
    "- https://jakevdp.github.io/PythonDataScienceHandbook/03.08-aggregation-and-grouping.html\n",
    "- https://jakevdp.github.io/PythonDataScienceHandbook/03.09-pivot-tables.html\n",
    "    "
   ]
  },
  {
   "cell_type": "markdown",
   "metadata": {
    "id": "oeWprAfnlTt-"
   },
   "source": [
    "# 1. Importando bibliotecas <a name=\"import\"></a>\n",
    "\n",
    "<div style=\"text-align: right\"\n",
    "     \n",
    "[Voltar ao índice](#Contents)"
   ]
  },
  {
   "cell_type": "code",
   "execution_count": null,
   "metadata": {
    "ExecuteTime": {
     "end_time": "2021-06-06T21:12:37.298706Z",
     "start_time": "2021-06-06T21:12:36.656481Z"
    },
    "id": "y_9gYudilTt_"
   },
   "outputs": [],
   "source": [
    "import numpy as np\n",
    "import pandas as pd\n",
    "import seaborn as sns\n",
    "import matplotlib.pyplot as plt\n",
    "\n",
    "%matplotlib inline"
   ]
  },
  {
   "cell_type": "markdown",
   "metadata": {
    "id": "-cpxC-IBlTuA"
   },
   "source": [
    "# 2. Carregando o dataframe SINASC <a name=\"read\"></a>\n",
    "<div style=\"text-align: right\"\n",
    "     \n",
    "[Voltar ao índice](#Contents)"
   ]
  },
  {
   "cell_type": "code",
   "execution_count": null,
   "metadata": {
    "ExecuteTime": {
     "end_time": "2021-06-06T21:12:37.762376Z",
     "start_time": "2021-06-06T21:12:37.728383Z"
    },
    "id": "nQZn7u4DlTuB",
    "outputId": "74b44036-69d9-4139-b291-621d77ed331b",
    "scrolled": true
   },
   "outputs": [],
   "source": [
    "sinasc = pd.read_csv('SINASC_RO_2019.csv')\n",
    "sinasc.head()"
   ]
  },
  {
   "cell_type": "markdown",
   "metadata": {
    "id": "9GOoel3-lTuD"
   },
   "source": [
    "# Tarefa 2"
   ]
  },
  {
   "cell_type": "markdown",
   "metadata": {
    "id": "iNNeWswTlTuD"
   },
   "source": [
    "### 1. Crie 2 faixas de Latitude do município (munResLat) sendo uma acima e outra abaixo de -10.5 e aplique o groupby usando essas faixas como chave e realize operações de soma, media, minimo, maximo, mediana, desvio padrao, variancia pra pelo menos 2 variáveis numéricas ainda não utilizadas"
   ]
  },
  {
   "cell_type": "code",
   "execution_count": null,
   "metadata": {
    "id": "HXtelNbnlTuE"
   },
   "outputs": [],
   "source": [
    "# 1) Criar faixas de latitude\n",
    "sinasc['faixa_latitude'] = sinasc['munResLat'].apply(lambda x: 'Acima de -10.5' if x > -10.5 else 'Abaixo de -10.5')\n",
    "\n",
    "# 2) Agrupando os dados pela nova coluna 'faixa_latitude'\n",
    "grouped = sinasc.groupby('faixa_latitude')\n",
    "\n",
    "# 3) Realizando operações de agregação em duas variáveis numéricas\n",
    "# Vou usar as colunas 'IDADEMAE' e 'APGAR1' como exemplo de variáveis numéricas não utilizadas anteriormente\n",
    "\n",
    "estatisticas = grouped.agg(\n",
    "    soma_idade_mae=('IDADEMAE', 'sum'),\n",
    "    media_idade_mae=('IDADEMAE', 'mean'),\n",
    "    min_idade_mae=('IDADEMAE', 'min'),\n",
    "    max_idade_mae=('IDADEMAE', 'max'),\n",
    "    mediana_idade_mae=('IDADEMAE', 'median'),\n",
    "    desvio_padrao_idade_mae=('IDADEMAE', 'std'),\n",
    "    variancia_idade_mae=('IDADEMAE', 'var'),\n",
    "    \n",
    "    soma_apgar1=('APGAR1', 'sum'),\n",
    "    media_apgar1=('APGAR1', 'mean'),\n",
    "    min_apgar1=('APGAR1', 'min'),\n",
    "    max_apgar1=('APGAR1', 'max'),\n",
    "    mediana_apgar1=('APGAR1', 'median'),\n",
    "    desvio_padrao_apgar1=('APGAR1', 'std'),\n",
    "    variancia_apgar1=('APGAR1', 'var')\n",
    ")\n",
    "\n",
    "# Exibir os resultados\n",
    "print(estatisticas)"
   ]
  },
  {
   "cell_type": "markdown",
   "metadata": {
    "id": "AK33D0mdlTuE"
   },
   "source": [
    "### 2. Crie 2 faixas da área dos municípios (munResArea) sendo uma acima e outra abaixo de 3000 e aplique o groupby usando essas faixas como chave e realize operações de soma, media, minimo, maximo, mediana, desvio padrao, variancia pra pelo menos 2 variáveis numéricas ainda não utilizadas\n"
   ]
  },
  {
   "cell_type": "code",
   "execution_count": null,
   "metadata": {},
   "outputs": [],
   "source": [
    "print(sinasc.columns)"
   ]
  },
  {
   "cell_type": "code",
   "execution_count": null,
   "metadata": {
    "id": "qqCXJtYIlTuE"
   },
   "outputs": [],
   "source": [
    "# 1) Criar faixas de área dos municípios\n",
    "sinasc['faixa_area'] = sinasc['munResArea'].apply(lambda x: 'Acima de 3000' if x > 3000 else 'Abaixo de 3000')\n",
    "\n",
    "# 2) Agrupando os dados pela nova coluna 'faixa_area'\n",
    "grouped = sinasc.groupby('faixa_area')\n",
    "\n",
    "# 3) Realizando operações de agregação em duas variáveis numéricas não utilizadas anteriormente: QTDFILVIVO e PESO\n",
    "estatisticas_area = grouped.agg(\n",
    "    soma_filhos_vivos=('QTDFILVIVO', 'sum'),\n",
    "    media_filhos_vivos=('QTDFILVIVO', 'mean'),\n",
    "    min_filhos_vivos=('QTDFILVIVO', 'min'),\n",
    "    max_filhos_vivos=('QTDFILVIVO', 'max'),\n",
    "    mediana_filhos_vivos=('QTDFILVIVO', 'median'),\n",
    "    desvio_padrao_filhos_vivos=('QTDFILVIVO', 'std'),\n",
    "    variancia_filhos_vivos=('QTDFILVIVO', 'var'),\n",
    "    \n",
    "    soma_peso_bebe=('PESO', 'sum'),\n",
    "    media_peso_bebe=('PESO', 'mean'),\n",
    "    min_peso_bebe=('PESO', 'min'),\n",
    "    max_peso_bebe=('PESO', 'max'),\n",
    "    mediana_peso_bebe=('PESO', 'median'),\n",
    "    desvio_padrao_peso_bebe=('PESO', 'std'),\n",
    "    variancia_peso_bebe=('PESO', 'var')\n",
    ")\n",
    "\n",
    "# Exibir os resultados\n",
    "print(estatisticas_area)\n"
   ]
  },
  {
   "cell_type": "markdown",
   "metadata": {
    "id": "aWaljnnxlTuE"
   },
   "source": [
    "### 3. Determine faixas na variável munResAlt e aplique o groupby usando essas faixas como chave e realize operações de soma, media, minimo, maximo, mediana, desvio padrao, variancia pra pelo menos 2 variáveis numéricas ainda não utilizadas"
   ]
  },
  {
   "cell_type": "code",
   "execution_count": null,
   "metadata": {},
   "outputs": [],
   "source": [
    "# 1) Criar faixas de altitude dos municípios\n",
    "# Definindo três faixas como exemplo\n",
    "sinasc['faixa_altitude'] = pd.cut(sinasc['munResAlt'], bins=[-np.inf, 100, 300, np.inf], labels=['Baixa', 'Média', 'Alta'])\n",
    "\n",
    "# 2) Agrupando os dados pela nova coluna 'faixa_altitude'\n",
    "grouped = sinasc.groupby('faixa_altitude')\n",
    "\n",
    "# 3) Realizando operações de agregação em duas variáveis numéricas ainda não utilizadas: IDADEMAE e APGAR5\n",
    "estatisticas_altitude = grouped.agg(\n",
    "    soma_idade_mae=('IDADEMAE', 'sum'),\n",
    "    media_idade_mae=('IDADEMAE', 'mean'),\n",
    "    min_idade_mae=('IDADEMAE', 'min'),\n",
    "    max_idade_mae=('IDADEMAE', 'max'),\n",
    "    mediana_idade_mae=('IDADEMAE', 'median'),\n",
    "    desvio_padrao_idade_mae=('IDADEMAE', 'std'),\n",
    "    variancia_idade_mae=('IDADEMAE', 'var'),\n",
    "    \n",
    "    soma_apgar5=('APGAR5', 'sum'),\n",
    "    media_apgar5=('APGAR5', 'mean'),\n",
    "    min_apgar5=('APGAR5', 'min'),\n",
    "    max_apgar5=('APGAR5', 'max'),\n",
    "    mediana_apgar5=('APGAR5', 'median'),\n",
    "    desvio_padrao_apgar5=('APGAR5', 'std'),\n",
    "    variancia_apgar5=('APGAR5', 'var')\n",
    ")\n",
    "\n",
    "# Exibir os resultados\n",
    "print(estatisticas_altitude)"
   ]
  },
  {
   "cell_type": "markdown",
   "metadata": {
    "id": "aF1riawJlTuF"
   },
   "source": [
    "### 4. Plote no mesmo grafico ao longo do tempo a idade media das mulheres de cada regiao imediatas de rondonia\n"
   ]
  },
  {
   "cell_type": "code",
   "execution_count": null,
   "metadata": {
    "id": "6aZM5xKale9c",
    "scrolled": true
   },
   "outputs": [],
   "source": [
    "imediatas = {\n",
    "    \"Candeias do Jamari\": \"Porto Velho\",\n",
    "    \"Guajará-Mirim\": \"Porto Velho\",\n",
    "    \"Itapuã do Oeste\": \"Porto Velho\",\n",
    "    \"Nova Mamoré\": \"Porto Velho\",\n",
    "    \"Porto Velho\": \"Porto Velho\",\n",
    "    \"Ariquemes\": \"Ariquemes\",\n",
    "    \"Alto Paraíso\": \"Ariquemes\",\n",
    "    \"Buritis\": \"Ariquemes\",\n",
    "    \"Cacaulândia\": \"Ariquemes\",\n",
    "    \"Campo Novo de Rondônia\": \"Ariquemes\",\n",
    "    \"Cujubim\": \"Ariquemes\",\n",
    "    \"Monte Negro\": \"Ariquemes\",\n",
    "    \"Rio Crespo\": \"Ariquemes\",\n",
    "    \"Jaru\": \"Jaru\",\n",
    "    \"Governador Jorge Teixeira\": \"Jaru\",\n",
    "    \"Machadinho D'Oeste\": \"Jaru\",\n",
    "    \"Theobroma\": \"Jaru\",\n",
    "    \"Vale do Anari\": \"Jaru\",\n",
    "    \"Alvorada D'Oeste\": \"Ji-Paraná\",\n",
    "    \"Costa Marques\": \"Ji-Paraná\",\n",
    "    \"Ji-Paraná\": \"Ji-Paraná\",\n",
    "    \"Mirante da Serra\": \"Ji-Paraná\",\n",
    "    \"Nova União\": \"Ji-Paraná\",\n",
    "    \"Ouro Preto do Oeste\": \"Ji-Paraná\",\n",
    "    \"Presidente Médici\": \"Ji-Paraná\",\n",
    "    \"São Francisco do Guaporé\": \"Ji-Paraná\",\n",
    "    \"São Miguel do Guaporé\": \"Ji-Paraná\",\n",
    "    \"Seringueiras\": \"Ji-Paraná\",\n",
    "    \"Teixeirópolis\": \"Ji-Paraná\",\n",
    "    \"Urupá\": \"Ji-Paraná\",\n",
    "    \"Vale do Paraíso\": \"Ji-Paraná\",\n",
    "    \"Cacoal\": \"Cacoal\",\n",
    "    \"Alta Floresta D'Oeste\": \"Cacoal\",\n",
    "    \"Alto Alegre dos Parecis\": \"Cacoal\",\n",
    "    \"Castanheiras\": \"Cacoal\",\n",
    "    \"Espigão D'Oeste\": \"Cacoal\",\n",
    "    \"Ministro Andreazza\": \"Cacoal\",\n",
    "    \"Nova Brasilândia D'Oeste\": \"Cacoal\",\n",
    "    \"Novo Horizonte do Oeste\": \"Cacoal\",\n",
    "    \"Parecis\": \"Cacoal\",\n",
    "    \"Pimenta Bueno\": \"Cacoal\",\n",
    "    \"Primavera de Rondônia\": \"Cacoal\",\n",
    "    \"Rolim de Moura\": \"Cacoal\",\n",
    "    \"Santa Luzia D'Oeste\": \"Cacoal\",\n",
    "    \"São Felipe D'Oeste\": \"Cacoal\",\n",
    "    \"Vilhena\": \"Vilhena\",\n",
    "    \"Cabixi\": \"Vilhena\",\n",
    "    \"Cerejeiras\": \"Vilhena\",\n",
    "    \"Chupinguaia\": \"Vilhena\",\n",
    "    \"Colorado do Oeste\": \"Vilhena\",\n",
    "    \"Corumbiara\": \"Vilhena\",\n",
    "    \"Pimenteiras do Oeste\": \"Vilhena\"\n",
    "}"
   ]
  },
  {
   "cell_type": "code",
   "execution_count": 50,
   "metadata": {},
   "outputs": [
    {
     "data": {
      "image/png": "[encoded data removed]",
      "text/plain": [
       "<Figure size 1200x600 with 1 Axes>"
      ]
     },
     "metadata": {},
     "output_type": "display_data"
    }
   ],
   "source": [
    "# 1) Criar uma coluna que associa os municípios às regiões imediatas\n",
    "sinasc['regiao_imediata'] = sinasc['munResNome'].map(imediatas)\n",
    "\n",
    "# 2) Convertendo a data de nascimento para formato datetime\n",
    "sinasc['DTNASC'] = pd.to_datetime(sinasc['DTNASC'], format='%d/%m/%Y')\n",
    "\n",
    "# 3) Criar uma coluna para o ano/mês\n",
    "sinasc['ano_mes'] = sinasc['DTNASC'].dt.to_period('M')\n",
    "\n",
    "# 4) Agrupar por ano/mês e região imediata e calcular a idade média das mães\n",
    "idade_media = sinasc.groupby(['ano_mes', 'regiao_imediata'])['IDADEMAE'].mean().unstack()\n",
    "\n",
    "# 5) Preencher valores ausentes usando ffill corretamente\n",
    "idade_media = idade_media.ffill()\n",
    "\n",
    "# 6) Plotar o gráfico\n",
    "plt.figure(figsize=(12, 6))\n",
    "\n",
    "# Plotar a idade média de cada região ao longo do tempo\n",
    "for regiao in idade_media.columns:\n",
    "    plt.plot(idade_media.index.astype(str), idade_media[regiao], label=regiao)\n",
    "\n",
    "# Verificação: Só adiciona legenda se houver dados\n",
    "if idade_media.columns.any():\n",
    "    plt.legend(title='Região Imediata')\n",
    "\n",
    "plt.title('Idade Média das Mães por Região Imediata ao Longo do Tempo')\n",
    "plt.xlabel('Tempo (Ano/Mês)')\n",
    "plt.ylabel('Idade Média das Mães')\n",
    "plt.xticks(rotation=45)\n",
    "plt.grid(True)\n",
    "plt.tight_layout()\n",
    "\n",
    "# Exibir o gráfico\n",
    "plt.show()"
   ]
  },
  {
   "cell_type": "markdown",
   "metadata": {
    "id": "yt-LIWxblTuF"
   },
   "source": [
    "### 5. Utilize a tabela do link abaixo e crie faixas utilizando o mapping e gere agrupamentos utilizando essas faixas como chave\n"
   ]
  },
  {
   "cell_type": "markdown",
   "metadata": {
    "id": "moZakjgIlTuF"
   },
   "source": [
    "### 5.1 IDH\n",
    "A - https://pt.wikipedia.org/wiki/Lista_de_munic%C3%ADpios_de_Rond%C3%B4nia_por_IDH-M\n"
   ]
  },
  {
   "cell_type": "code",
   "execution_count": 56,
   "metadata": {
    "id": "DaJk66_BlTuF"
   },
   "outputs": [
    {
     "name": "stdout",
     "output_type": "stream",
     "text": [
      "     faixa_idh  Município\n",
      "0  Muito Baixo          9\n",
      "1        Baixo         36\n",
      "2        Médio          7\n",
      "3         Alto          0\n",
      "4   Muito Alto          0\n"
     ]
    }
   ],
   "source": [
    "# Criar um DataFrame com os dados fornecidos\n",
    "dados = {\n",
    "    \"Município\": [\"Porto Velho\", \"Vilhena\", \"Cacoal\", \"Ji-Paraná\", \"Pimenta Bueno\", \"Ariquemes\", \"Rolim de Moura\",\n",
    "                  \"Cerejeiras\", \"Jaru\", \"Colorado do Oeste\", \"Ouro Preto do Oeste\", \"Espigão d'Oeste\", \n",
    "                  \"Santa Luzia d'Oeste\", \"Pimenteiras do Oeste\", \"Presidente Médici\", \"Castanheiras\", \n",
    "                  \"Guajará-Mirim\", \"Chupinguaia\", \"Cabixi\", \"Candeias do Jamari\", \"São Felipe d'Oeste\", \n",
    "                  \"Cacaulândia\", \"São Miguel do Guaporé\", \"Mirante da Serra\", \"Alvorada d'Oeste\", \n",
    "                  \"Teixeirópolis\", \"Nova Brasilândia d'Oeste\", \"Rio Crespo\", \"Primavera de Rondônia\", \n",
    "                  \"Alta Floresta d'Oeste\", \"Ministro Andreazza\", \"Novo Horizonte do Oeste\", \"Vale do Paraíso\", \n",
    "                  \"Alto Paraíso\", \"Parecis\", \"Buritis\", \"Itapuã do Oeste\", \"Corumbiara\", \"Cujubim\", \n",
    "                  \"Costa Marques\", \"São Francisco do Guaporé\", \"Urupá\", \"Monte Negro\", \"Seringueiras\", \n",
    "                  \"Governador Jorge Teixeira\", \"Machadinho d'Oeste\", \"Campo Novo de Rondônia\", \n",
    "                  \"Alto Alegre dos Parecis\", \"Theobroma\", \"Nova União\", \"Nova Mamoré\", \"Vale do Anari\"],\n",
    "    \"IDH\": [0.736, 0.731, 0.718, 0.714, 0.710, 0.702, 0.700, 0.692, 0.689, 0.685, 0.682, 0.672, 0.670, \n",
    "            0.665, 0.664, 0.658, 0.657, 0.652, 0.650, 0.649, 0.649, 0.646, 0.646, 0.643, 0.643, \n",
    "            0.643, 0.643, 0.643, 0.641, 0.641, 0.638, 0.634, 0.627, 0.625, 0.617, 0.616, 0.614, \n",
    "            0.613, 0.612, 0.611, 0.611, 0.609, 0.607, 0.598, 0.596, 0.596, 0.593, 0.592, 0.589, \n",
    "            0.587, 0.587, 0.584]\n",
    "}\n",
    "\n",
    "df_idh = pd.DataFrame(dados)\n",
    "\n",
    "# Definir faixas de IDH\n",
    "faixas = [0, 0.599, 0.699, 0.799, 0.899, 1.0]\n",
    "rotulos = ['Muito Baixo', 'Baixo', 'Médio', 'Alto', 'Muito Alto']\n",
    "df_idh['faixa_idh'] = pd.cut(df_idh['IDH'], bins=faixas, labels=rotulos, right=False)\n",
    "\n",
    "# Agrupar por faixas de IDH e contar o número de municípios\n",
    "agrupado_idh = df_idh.groupby('faixa_idh', observed=False)['Município'].count().reset_index()\n",
    "\n",
    "# Exibir os resultados\n",
    "print(agrupado_idh)\n"
   ]
  },
  {
   "cell_type": "markdown",
   "metadata": {
    "id": "zhtI6CxtlTuH"
   },
   "source": [
    "### 5.2 IFDM\n",
    "B - https://pt.wikipedia.org/wiki/Lista_de_munic%C3%ADpios_de_Rond%C3%B4nia_por_IFDM\n"
   ]
  },
  {
   "cell_type": "code",
   "execution_count": 58,
   "metadata": {
    "id": "1AVkd1M3lTuI"
   },
   "outputs": [
    {
     "name": "stdout",
     "output_type": "stream",
     "text": [
      "    faixa_ifdm  Município\n",
      "0  Muito Baixo          1\n",
      "1        Baixo         25\n",
      "2      Regular         19\n",
      "3     Moderado          6\n",
      "4         Alto          0\n",
      "5   Muito Alto          0\n"
     ]
    }
   ],
   "source": [
    "import pandas as pd\n",
    "\n",
    "# Criar um DataFrame com os dados fornecidos\n",
    "dados_ifdm = {\n",
    "    \"Município\": [\"Ariquemes\", \"Vilhena\", \"Pimenta Bueno\", \"Porto Velho\", \"Ji-Paraná\", \"Cacoal\", \n",
    "                  \"Santa Luzia d'Oeste\", \"Rolim de Moura\", \"Chupinguaia\", \"São Miguel do Guaporé\", \n",
    "                  \"Pimenteiras do Oeste\", \"Teixeirópolis\", \"Colorado do Oeste\", \"Jaru\", \n",
    "                  \"Rio Crespo\", \"Primavera de Rondônia\", \"Alta Floresta d'Oeste\", \n",
    "                  \"Ouro Preto do Oeste\", \"São Francisco do Guaporé\", \"Candeias do Jamari\", \n",
    "                  \"São Felipe d'Oeste\", \"Presidente Médici\", \"Cerejeiras\", \"Monte Negro\", \n",
    "                  \"Urupá\", \"Espigão d'Oeste\", \"Seringueiras\", \"Alvorada d'Oeste\", \"Itapuã do Oeste\", \n",
    "                  \"Cabixi\", \"Novo Horizonte do Oeste\", \"Nova Brasilândia d'Oeste\", \"Vale do Paraíso\", \n",
    "                  \"Corumbiara\", \"Alto Paraíso\", \"Cacaulândia\", \"Vale do Anari\", \n",
    "                  \"Ministro Andreazza\", \"Costa Marques\", \"Nova União\", \"Guajará-Mirim\", \n",
    "                  \"Mirante da Serra\", \"Parecis\", \"Castanheiras\", \"Theobroma\", \n",
    "                  \"Machadinho d'Oeste\", \"Campo Novo de Rondônia\", \"Nova Mamoré\", \"Cujubim\", \n",
    "                  \"Alto Alegre dos Parecis\", \"Governador Jorge Teixeira\"],\n",
    "    \"IFDM\": [0.7746, 0.7465, 0.7383, 0.7257, 0.7117, 0.7111, 0.6850, 0.6785, 0.6766, \n",
    "             0.6699, 0.6501, 0.6500, 0.6473, 0.6450, 0.6430, 0.6384, 0.6337, \n",
    "             0.6261, 0.6214, 0.6199, 0.6153, 0.6140, 0.6137, 0.6016, 0.6006, \n",
    "             0.5973, 0.5922, 0.5919, 0.5903, 0.5887, 0.5858, 0.5857, 0.5818, \n",
    "             0.5759, 0.5735, 0.5721, 0.5710, 0.5657, 0.5626, 0.5571, 0.5541, \n",
    "             0.5519, 0.5502, 0.5430, 0.5405, 0.5322, 0.5272, 0.5084, 0.5055, \n",
    "             0.5046, 0.4562]\n",
    "}\n",
    "\n",
    "df_ifdm = pd.DataFrame(dados_ifdm)\n",
    "\n",
    "# Definir faixas de IFDM\n",
    "faixas_ifdm = [0, 0.5, 0.6, 0.7, 0.8, 0.9, 1.0]\n",
    "rotulos_ifdm = ['Muito Baixo', 'Baixo', 'Regular', 'Moderado', 'Alto', 'Muito Alto']\n",
    "df_ifdm['faixa_ifdm'] = pd.cut(df_ifdm['IFDM'], bins=faixas_ifdm, labels=rotulos_ifdm, right=False)\n",
    "\n",
    "# Agrupar por faixas de IFDM e contar o número de municípios\n",
    "agrupado_ifdm = df_ifdm.groupby('faixa_ifdm', observed=False)['Município'].count().reset_index()\n",
    "\n",
    "# Exibir os resultados\n",
    "print(agrupado_ifdm)\n"
   ]
  },
  {
   "cell_type": "markdown",
   "metadata": {
    "id": "BwdS46EWlTuI"
   },
   "source": [
    "### 5.3 PIB\n",
    "C - https://pt.wikipedia.org/wiki/Lista_de_munic%C3%ADpios_de_Rond%C3%B4nia_por_PIB\n"
   ]
  },
  {
   "cell_type": "code",
   "execution_count": 60,
   "metadata": {},
   "outputs": [
    {
     "name": "stdout",
     "output_type": "stream",
     "text": [
      "              faixa_pib  Município\n",
      "0       Até 100 Milhões         52\n",
      "1  Acima de 100 Milhões          0\n",
      "2  Acima de 200 Milhões          0\n",
      "3  Acima de 300 Milhões          0\n",
      "4  Acima de 500 Milhões          0\n",
      "5     Acima de 1 Bilhão          0\n"
     ]
    }
   ],
   "source": [
    "import pandas as pd\n",
    "\n",
    "# Criar um DataFrame com os dados fornecidos\n",
    "dados_pib = {\n",
    "    \"Município\": [\n",
    "        \"Porto Velho\", \"Ji-Paraná\", \"Vilhena\", \"Ariquemes\", \"Cacoal\", \"Jaru\", \"Rolim de Moura\", \"Pimenta Bueno\",\n",
    "        \"Guajará-Mirim\", \"Ouro Preto do Oeste\", \"Buritis\", \"Machadinho do Oeste\", \"Espigão d'Oeste\", \n",
    "        \"São Miguel do Guaporé\", \"Candeias do Jamari\", \"Nova Mamoré\", \"Cerejeiras\", \"Alta Floresta do Oeste\", \n",
    "        \"Presidente Médici\", \"Cujubim\", \"Nova Brasilândia do Oeste\", \"Alto Paraíso\", \"São Francisco do Guaporé\", \n",
    "        \"Colorado do Oeste\", \"Monte Negro\", \"Alto Alegre dos Parecis\", \"Campo Novo de Rondônia\", \n",
    "        \"Alvorada do Oeste\", \"Chupinguaia\", \"Corumbiara\", \"Ministro Andreazza\", \"Urupá\", \"Costa Marques\", \n",
    "        \"Seringueiras\", \"Mirante da Serra\", \"Governador Jorge Teixeira\", \"Theobroma\", \"Santa Luzia do Oeste\", \n",
    "        \"Novo Horizonte do Oeste\", \"Itapuã do Oeste\", \"Vale do Paraíso\", \"Cacaulândia\", \"Cabixi\", \n",
    "        \"Vale do Anari\", \"Nova União\", \"Parecis\", \"Rio Crespo\", \"Pimenteiras do Oeste\", \"Teixeirópolis\", \n",
    "        \"São Felipe do Oeste\", \"Castanheiras\", \"Primavera de Rondônia\"\n",
    "    ],\n",
    "    \"PIB\": [\n",
    "        17912070, 3783972, 2831175, 2579830, 2261644, 1500890, 1283434, 1164877,\n",
    "        893000, 834000, 726000, 633000, 625000, 616000, 548000, 529000, 507000, \n",
    "        496000, 428000, 385000, 360000, 358000, 353000, 335000, 219152, 213410, \n",
    "        208821, 204098, 190331, 188218, 174633, 172143, 171878, 169429, 163955, \n",
    "        148027, 140601, 135934, 129399, 129351, 116742, 116635, 113031, 105208, \n",
    "        92346, 80759, 76854, 76756, 72089, 72084, 59779, 52908\n",
    "    ]\n",
    "}\n",
    "\n",
    "df_pib = pd.DataFrame(dados_pib)\n",
    "\n",
    "# Definir faixas de PIB em bilhões\n",
    "faixas_pib = [0, 100000000, 200000000, 300000000, 500000000, 1000000000, float('inf')]\n",
    "rotulos_pib = ['Até 100 Milhões', 'Acima de 100 Milhões', 'Acima de 200 Milhões', \n",
    "               'Acima de 300 Milhões', 'Acima de 500 Milhões', 'Acima de 1 Bilhão']\n",
    "df_pib['faixa_pib'] = pd.cut(df_pib['PIB'], bins=faixas_pib, labels=rotulos_pib, right=False)\n",
    "\n",
    "# Agrupar por faixas de PIB e contar o número de municípios\n",
    "agrupado_pib = df_pib.groupby('faixa_pib', observed=False)['Município'].count().reset_index()\n",
    "\n",
    "# Exibir os resultados\n",
    "print(agrupado_pib)\n"
   ]
  },
  {
   "cell_type": "markdown",
   "metadata": {
    "id": "bdWGW_xtlTuI"
   },
   "source": [
    "### Analise as respostas encontradas, tire algum insight delas, conte pra gente algo encontrado nos dados."
   ]
  },
  {
   "cell_type": "markdown",
   "metadata": {
    "id": "shZvokfBlTuI"
   },
   "source": [
    "Exemplo:\n",
    "- Ah, descobri que a idade mediana das mulheres que deram a luz no ano de 2019 dos municipios com o PIB mais alto é a maior dentre todas."
   ]
  },
  {
   "cell_type": "markdown",
   "metadata": {
    "id": "f8P7BYYglTuJ"
   },
   "source": [
    "Analisando os dados do PIB de Rondônia, a gente vê que a maioria dos municípios com PIB acima de 1 bilhão está nas cidades mais populosas, tipo Porto Velho e Ji-Paraná. Isso mostra que crescimento econômico tá ligado à densidade populacional e à infraestrutura. Também, há uma galera com PIB entre 100 e 500 milhões, o que indica diversidade econômica e chances de crescimento em áreas menos desenvolvidas. Esses insights são importantes para orientar políticas públicas e investimentos."
   ]
  }
 ],
 "metadata": {
  "colab": {
   "provenance": []
  },
  "kernelspec": {
   "display_name": "Python 3 (ipykernel)",
   "language": "python",
   "name": "python3"
  },
  "language_info": {
   "codemirror_mode": {
    "name": "ipython",
    "version": 3
   },
   "file_extension": ".py",
   "mimetype": "text/x-python",
   "name": "python",
   "nbconvert_exporter": "python",
   "pygments_lexer": "ipython3",
   "version": "3.12.4"
  },
  "varInspector": {
   "cols": {
    "lenName": 16,
    "lenType": 16,
    "lenVar": 40
   },
   "kernels_config": {
    "python": {
     "delete_cmd_postfix": "",
     "delete_cmd_prefix": "del ",
     "library": "var_list.py",
     "varRefreshCmd": "print(var_dic_list())"
    },
    "r": {
     "delete_cmd_postfix": ") ",
     "delete_cmd_prefix": "rm(",
     "library": "var_list.r",
     "varRefreshCmd": "cat(var_dic_list()) "
    }
   },
   "types_to_exclude": [
    "module",
    "function",
    "builtin_function_or_method",
    "instance",
    "_Feature"
   ],
   "window_display": false
  }
 },
 "nbformat": 4,
 "nbformat_minor": 4
}
